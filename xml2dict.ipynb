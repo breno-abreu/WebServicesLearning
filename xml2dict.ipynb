{
 "cells": [
  {
   "cell_type": "code",
   "execution_count": 22,
   "id": "d5b74032-2688-45ad-bc54-fd695e2b071d",
   "metadata": {},
   "outputs": [],
   "source": [
    "import xmltodict #https://pypi.org/project/xmltodict/\n",
    "import json"
   ]
  },
  {
   "cell_type": "code",
   "execution_count": 23,
   "id": "90d93b2a-46ee-4eaf-9a54-76ed89f7fb59",
   "metadata": {},
   "outputs": [
    {
     "name": "stdout",
     "output_type": "stream",
     "text": [
      "<?xml version=\"1.0\"?>\n",
      "<data>\n",
      "    <country name=\"Liechtenstein\">\n",
      "        <rank>1</rank>\n",
      "        <year>2008</year>\n",
      "        <gdppc>141100</gdppc>\n",
      "        <neighbor name=\"Austria\" direction=\"E\"/>\n",
      "        <neighbor name=\"Switzerland\" direction=\"W\"/>\n",
      "    </country>\n",
      "    <country name=\"Singapore\">\n",
      "        <rank>4</rank>\n",
      "        <year>2011</year>\n",
      "        <gdppc>59900</gdppc>\n",
      "        <neighbor name=\"Malaysia\" direction=\"N\"/>\n",
      "    </country>\n",
      "    <country name=\"Panama\">\n",
      "        <rank>68</rank>\n",
      "        <year>2011</year>\n",
      "        <gdppc>13600</gdppc>\n",
      "        <neighbor name=\"Costa Rica\" direction=\"W\"/>\n",
      "        <neighbor name=\"Colombia\" direction=\"E\"/>\n",
      "    </country>\n",
      "</data>\n"
     ]
    }
   ],
   "source": [
    "with open('sample.xml', 'r') as file:\n",
    "    text = file.read()\n",
    "\n",
    "print(text)"
   ]
  },
  {
   "cell_type": "code",
   "execution_count": 24,
   "id": "a3d1eaa5-3299-4a43-897a-3a362cb46491",
   "metadata": {},
   "outputs": [
    {
     "name": "stdout",
     "output_type": "stream",
     "text": [
      "{\"data\": {\"country\": [{\"@name\": \"Liechtenstein\", \"rank\": \"1\", \"year\": \"2008\", \"gdppc\": \"141100\", \"neighbor\": [{\"@name\": \"Austria\", \"@direction\": \"E\"}, {\"@name\": \"Switzerland\", \"@direction\": \"W\"}]}, {\"@name\": \"Singapore\", \"rank\": \"4\", \"year\": \"2011\", \"gdppc\": \"59900\", \"neighbor\": {\"@name\": \"Malaysia\", \"@direction\": \"N\"}}, {\"@name\": \"Panama\", \"rank\": \"68\", \"year\": \"2011\", \"gdppc\": \"13600\", \"neighbor\": [{\"@name\": \"Costa Rica\", \"@direction\": \"W\"}, {\"@name\": \"Colombia\", \"@direction\": \"E\"}]}]}}\n"
     ]
    }
   ],
   "source": [
    "json_data = json.dumps(xmltodict.parse(text))\n",
    "print(json_data)"
   ]
  },
  {
   "cell_type": "code",
   "execution_count": 26,
   "id": "2dc2cd8b-5752-49b2-8a7a-5ec25a2715c4",
   "metadata": {},
   "outputs": [
    {
     "data": {
      "text/plain": [
       "{'data': {'country': [{'@name': 'Liechtenstein',\n",
       "    'rank': '1',\n",
       "    'year': '2008',\n",
       "    'gdppc': '141100',\n",
       "    'neighbor': [{'@name': 'Austria', '@direction': 'E'},\n",
       "     {'@name': 'Switzerland', '@direction': 'W'}]},\n",
       "   {'@name': 'Singapore',\n",
       "    'rank': '4',\n",
       "    'year': '2011',\n",
       "    'gdppc': '59900',\n",
       "    'neighbor': {'@name': 'Malaysia', '@direction': 'N'}},\n",
       "   {'@name': 'Panama',\n",
       "    'rank': '68',\n",
       "    'year': '2011',\n",
       "    'gdppc': '13600',\n",
       "    'neighbor': [{'@name': 'Costa Rica', '@direction': 'W'},\n",
       "     {'@name': 'Colombia', '@direction': 'E'}]}]}}"
      ]
     },
     "execution_count": 26,
     "metadata": {},
     "output_type": "execute_result"
    }
   ],
   "source": [
    "country_dict = json.loads(json_data)\n",
    "country_dict"
   ]
  },
  {
   "cell_type": "code",
   "execution_count": 27,
   "id": "868663e9-0183-4e48-a4ba-4edf7310cc79",
   "metadata": {},
   "outputs": [
    {
     "data": {
      "text/plain": [
       "[{'@name': 'Liechtenstein',\n",
       "  'rank': '1',\n",
       "  'year': '2008',\n",
       "  'gdppc': '141100',\n",
       "  'neighbor': [{'@name': 'Austria', '@direction': 'E'},\n",
       "   {'@name': 'Switzerland', '@direction': 'W'}]},\n",
       " {'@name': 'Singapore',\n",
       "  'rank': '4',\n",
       "  'year': '2011',\n",
       "  'gdppc': '59900',\n",
       "  'neighbor': {'@name': 'Malaysia', '@direction': 'N'}},\n",
       " {'@name': 'Panama',\n",
       "  'rank': '68',\n",
       "  'year': '2011',\n",
       "  'gdppc': '13600',\n",
       "  'neighbor': [{'@name': 'Costa Rica', '@direction': 'W'},\n",
       "   {'@name': 'Colombia', '@direction': 'E'}]}]"
      ]
     },
     "execution_count": 27,
     "metadata": {},
     "output_type": "execute_result"
    }
   ],
   "source": [
    "country_list = country_dict['data']['country']\n",
    "country_list"
   ]
  },
  {
   "cell_type": "code",
   "execution_count": 28,
   "id": "88bc493e-0574-4ac3-b819-6d747d5975c2",
   "metadata": {},
   "outputs": [
    {
     "name": "stdout",
     "output_type": "stream",
     "text": [
      "Costa Rica\n",
      "Colombia\n"
     ]
    }
   ],
   "source": [
    "for country in country_list:\n",
    "    name = country['@name']\n",
    "    if name == 'Panama':\n",
    "        for neighbor in country['neighbor']:\n",
    "            print(neighbor['@name'])"
   ]
  },
  {
   "cell_type": "code",
   "execution_count": null,
   "id": "60736a8f-7123-48e3-97bc-944e533638cd",
   "metadata": {},
   "outputs": [],
   "source": []
  }
 ],
 "metadata": {
  "kernelspec": {
   "display_name": "Python 3 (ipykernel)",
   "language": "python",
   "name": "python3"
  },
  "language_info": {
   "codemirror_mode": {
    "name": "ipython",
    "version": 3
   },
   "file_extension": ".py",
   "mimetype": "text/x-python",
   "name": "python",
   "nbconvert_exporter": "python",
   "pygments_lexer": "ipython3",
   "version": "3.11.5"
  }
 },
 "nbformat": 4,
 "nbformat_minor": 5
}
