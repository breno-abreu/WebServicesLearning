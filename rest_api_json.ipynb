{
 "cells": [
  {
   "cell_type": "code",
   "execution_count": 1,
   "id": "447832ca-68a3-4998-868b-895607b3125f",
   "metadata": {},
   "outputs": [],
   "source": [
    "import json\n",
    "import requests"
   ]
  },
  {
   "cell_type": "code",
   "execution_count": 24,
   "id": "c109b5cb-48d9-4f61-8b0e-666be0c24eb9",
   "metadata": {},
   "outputs": [],
   "source": [
    "def print_comments(response):\n",
    "    response_json = response.json()\n",
    "    for comment in response_json:\n",
    "        print(f\"Email: {comment['email']}\")\n",
    "        print(f\"Comment: {comment['body']}\")\n",
    "        print('\\n')"
   ]
  },
  {
   "cell_type": "code",
   "execution_count": 25,
   "id": "5867b30a-31fc-4b78-8611-a9de88e77bcd",
   "metadata": {},
   "outputs": [
    {
     "name": "stdout",
     "output_type": "stream",
     "text": [
      "Status Code: 200\n",
      "Email: Veronica_Goodwin@timmothy.net\n",
      "Comment: ut dolorum nostrum id quia aut est\n",
      "fuga est inventore vel eligendi explicabo quis consectetur\n",
      "aut occaecati repellat id natus quo est\n",
      "ut blanditiis quia ut vel ut maiores ea\n",
      "\n",
      "\n",
      "Email: Oswald.Vandervort@leanne.org\n",
      "Comment: expedita maiores dignissimos facilis\n",
      "ipsum est rem est fugit velit sequi\n",
      "eum odio dolores dolor totam\n",
      "occaecati ratione eius rem velit\n",
      "\n",
      "\n",
      "Email: Kariane@jadyn.tv\n",
      "Comment: fuga eos qui dolor rerum\n",
      "inventore corporis exercitationem\n",
      "corporis cupiditate et deserunt recusandae est sed quis culpa\n",
      "eum maiores corporis et\n",
      "\n",
      "\n",
      "Email: Nathan@solon.io\n",
      "Comment: vel quae voluptas qui exercitationem\n",
      "voluptatibus unde sed\n",
      "minima et qui ipsam aspernatur\n",
      "expedita magnam laudantium et et quaerat ut qui dolorum\n",
      "\n",
      "\n",
      "Email: Maynard.Hodkiewicz@roberta.com\n",
      "Comment: nihil ut voluptates blanditiis autem odio dicta rerum\n",
      "quisquam saepe et est\n",
      "sunt quasi nemo laudantium deserunt\n",
      "molestias tempora quo quia\n",
      "\n",
      "\n"
     ]
    }
   ],
   "source": [
    "params = {'postId': '3'}\n",
    "response = requests.get(\"https://jsonplaceholder.typicode.com/comments\", params=params)\n",
    "status_code = response.status_code\n",
    "\n",
    "print(f\"Status Code: {status_code}\")\n",
    "\n",
    "if status_code == 200:\n",
    "    print_comments(response)\n",
    "else:\n",
    "    print(\"Error\")"
   ]
  },
  {
   "cell_type": "code",
   "execution_count": null,
   "id": "e17c403e-5027-4083-8d7c-4f6d072ece1f",
   "metadata": {},
   "outputs": [],
   "source": []
  }
 ],
 "metadata": {
  "kernelspec": {
   "display_name": "Python 3 (ipykernel)",
   "language": "python",
   "name": "python3"
  },
  "language_info": {
   "codemirror_mode": {
    "name": "ipython",
    "version": 3
   },
   "file_extension": ".py",
   "mimetype": "text/x-python",
   "name": "python",
   "nbconvert_exporter": "python",
   "pygments_lexer": "ipython3",
   "version": "3.11.5"
  }
 },
 "nbformat": 4,
 "nbformat_minor": 5
}
