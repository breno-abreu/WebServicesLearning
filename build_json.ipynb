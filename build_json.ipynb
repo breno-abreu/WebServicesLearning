{
 "cells": [
  {
   "cell_type": "code",
   "execution_count": 8,
   "id": "14318e5b-a438-4890-a7b2-013a6a1f344b",
   "metadata": {},
   "outputs": [],
   "source": [
    "import random\n",
    "import json"
   ]
  },
  {
   "cell_type": "code",
   "execution_count": 9,
   "id": "fb71a1eb-e28e-4ee9-bc51-4e00158f0638",
   "metadata": {},
   "outputs": [],
   "source": [
    "def get_random_value(my_list):\n",
    "    random_index = random.randint(0, len(my_list) - 1)\n",
    "    value = my_list[random_index].lower()\n",
    "    return value"
   ]
  },
  {
   "cell_type": "code",
   "execution_count": 10,
   "id": "23e2db8e-4c78-4a47-9d99-94d3c472bd17",
   "metadata": {},
   "outputs": [],
   "source": [
    "def get_links(first_name, last_name, n_links):\n",
    "    link_sites = ['GitHub', 'Instagram', 'LinkedIn', '500px', 'Facebook']\n",
    "    link_list = []\n",
    "\n",
    "    for i in range(n_links):\n",
    "        site_lower = get_random_value(link_sites).lower()\n",
    "        firt_name_lower = first_name.lower()\n",
    "        last_name_lower = last_name.lower()\n",
    "        link_complete = f\"{site_lower}.com/{firt_name_lower}{last_name_lower}\"\n",
    "        link_list.append(link_complete)\n",
    "\n",
    "    return link_list"
   ]
  },
  {
   "cell_type": "code",
   "execution_count": 11,
   "id": "3317826f-3bc6-49a5-badc-c3dd6fbe058f",
   "metadata": {},
   "outputs": [],
   "source": [
    "def get_job_history(n_jobs):\n",
    "    job_titles = ['Software Engineer', 'Data Engineer', 'Data Scientist', 'Nurse', 'Professor', 'Civil Engineer', 'Forest Engineer', 'Personal Trainer', 'IT Manager']\n",
    "    job_companies = ['SCo', 'Evil Corp', 'Skywalker SA', 'Monsters INC', 'The Black Pearl University', 'Book Store']\n",
    "    job_list = []\n",
    "   \n",
    "    for i in range(n_jobs):\n",
    "        job_dict = {}\n",
    "        job_dict['job_title'] = get_random_value(job_titles)\n",
    "        job_dict['job_company'] = get_random_value(job_companies)\n",
    "        job_dict['year'] = random.randint(2000, 2024)\n",
    "        job_list.append(job_dict)\n",
    "\n",
    "    return job_list"
   ]
  },
  {
   "cell_type": "code",
   "execution_count": 12,
   "id": "442998c9-f7d8-4521-af4c-be9f3b5920ec",
   "metadata": {},
   "outputs": [],
   "source": [
    "def get_person(id):\n",
    "    first_names = ['Breno', 'Julia', 'Pedro', 'Amanda', 'Arnaldo']\n",
    "    last_names = ['Moura', 'Abreu', 'Matarazzo', 'Almeida', 'Oliveira', 'Silva', 'Figueredo']\n",
    "    email_providers = ['gmail', 'outlook', 'hotmail']\n",
    "    ddds = ['41', '55', '35', '43']\n",
    "\n",
    "    first_name = get_random_value(first_names).lower()\n",
    "    last_name = get_random_value(last_names).lower()\n",
    "    email_provider = get_random_value(email_providers).lower()\n",
    "    email = f\"{first_name}{last_name}@{email_provider}.com\"\n",
    "    phone = f\"({get_random_value(ddds)}){str(random.randint(9000, 9999))}-{str(random.randint(1000, 9999))}\"\n",
    "    links = get_links(first_name, last_name, random.randint(1, 3))\n",
    "    jobs = get_job_history(random.randint(1, 5))\n",
    "\n",
    "    person_dict = {\n",
    "        'id': id,\n",
    "        'first_name': first_name,\n",
    "        'last_name': last_name,\n",
    "        'email': email,\n",
    "        'phone': phone,\n",
    "        'links': links,\n",
    "        'jobs': jobs\n",
    "    }\n",
    "\n",
    "    return person_dict"
   ]
  },
  {
   "cell_type": "code",
   "execution_count": 13,
   "id": "4b0d8ca7-e224-402e-8db1-2ecb0185c03a",
   "metadata": {},
   "outputs": [],
   "source": [
    "def get_person_list(n_person):\n",
    "    person_list = [get_person(i) for i in range(n_person)]\n",
    "    return person_list"
   ]
  },
  {
   "cell_type": "code",
   "execution_count": 14,
   "id": "b83283b9-4668-4bb9-a8bc-707f2b13d9cd",
   "metadata": {},
   "outputs": [
    {
     "data": {
      "text/plain": [
       "[{'id': 0,\n",
       "  'first_name': 'pedro',\n",
       "  'last_name': 'abreu',\n",
       "  'email': 'pedroabreu@outlook.com',\n",
       "  'phone': '(43)9547-2980',\n",
       "  'links': ['instagram.com/pedroabreu',\n",
       "   'github.com/pedroabreu',\n",
       "   '500px.com/pedroabreu'],\n",
       "  'jobs': [{'job_title': 'it manager', 'job_company': 'sco', 'year': 2008},\n",
       "   {'job_title': 'forest engineer', 'job_company': 'evil corp', 'year': 2022},\n",
       "   {'job_title': 'professor', 'job_company': 'evil corp', 'year': 2018},\n",
       "   {'job_title': 'forest engineer',\n",
       "    'job_company': 'skywalker sa',\n",
       "    'year': 2012}]},\n",
       " {'id': 1,\n",
       "  'first_name': 'julia',\n",
       "  'last_name': 'silva',\n",
       "  'email': 'juliasilva@outlook.com',\n",
       "  'phone': '(55)9446-7828',\n",
       "  'links': ['linkedin.com/juliasilva',\n",
       "   'linkedin.com/juliasilva',\n",
       "   'instagram.com/juliasilva'],\n",
       "  'jobs': [{'job_title': 'data engineer',\n",
       "    'job_company': 'the black pearl university',\n",
       "    'year': 2018}]},\n",
       " {'id': 2,\n",
       "  'first_name': 'arnaldo',\n",
       "  'last_name': 'silva',\n",
       "  'email': 'arnaldosilva@outlook.com',\n",
       "  'phone': '(43)9639-4222',\n",
       "  'links': ['facebook.com/arnaldosilva', 'linkedin.com/arnaldosilva'],\n",
       "  'jobs': [{'job_title': 'forest engineer',\n",
       "    'job_company': 'book store',\n",
       "    'year': 2002},\n",
       "   {'job_title': 'personal trainer', 'job_company': 'evil corp', 'year': 2014},\n",
       "   {'job_title': 'professor',\n",
       "    'job_company': 'the black pearl university',\n",
       "    'year': 2008}]}]"
      ]
     },
     "execution_count": 14,
     "metadata": {},
     "output_type": "execute_result"
    }
   ],
   "source": [
    "my_list = get_person_list(3)\n",
    "my_list"
   ]
  },
  {
   "cell_type": "code",
   "execution_count": 15,
   "id": "6559e995-a1a8-446d-a67d-0d1bfce67817",
   "metadata": {},
   "outputs": [],
   "source": [
    "with open(\"people_data.json\", \"w\") as f:\n",
    "  json.dump(my_list, f, indent=4)"
   ]
  },
  {
   "cell_type": "code",
   "execution_count": 16,
   "id": "4de24f45-f8ee-4280-bcfb-839db59a7ef8",
   "metadata": {},
   "outputs": [],
   "source": [
    " with open('people_data.json', 'r') as f:\n",
    "    people_data = json.load(f)"
   ]
  },
  {
   "cell_type": "code",
   "execution_count": 17,
   "id": "16364a13-fb54-4cdf-846e-453883e29f70",
   "metadata": {},
   "outputs": [
    {
     "data": {
      "text/plain": [
       "[{'id': 0,\n",
       "  'first_name': 'pedro',\n",
       "  'last_name': 'abreu',\n",
       "  'email': 'pedroabreu@outlook.com',\n",
       "  'phone': '(43)9547-2980',\n",
       "  'links': ['instagram.com/pedroabreu',\n",
       "   'github.com/pedroabreu',\n",
       "   '500px.com/pedroabreu'],\n",
       "  'jobs': [{'job_title': 'it manager', 'job_company': 'sco', 'year': 2008},\n",
       "   {'job_title': 'forest engineer', 'job_company': 'evil corp', 'year': 2022},\n",
       "   {'job_title': 'professor', 'job_company': 'evil corp', 'year': 2018},\n",
       "   {'job_title': 'forest engineer',\n",
       "    'job_company': 'skywalker sa',\n",
       "    'year': 2012}]},\n",
       " {'id': 1,\n",
       "  'first_name': 'julia',\n",
       "  'last_name': 'silva',\n",
       "  'email': 'juliasilva@outlook.com',\n",
       "  'phone': '(55)9446-7828',\n",
       "  'links': ['linkedin.com/juliasilva',\n",
       "   'linkedin.com/juliasilva',\n",
       "   'instagram.com/juliasilva'],\n",
       "  'jobs': [{'job_title': 'data engineer',\n",
       "    'job_company': 'the black pearl university',\n",
       "    'year': 2018}]},\n",
       " {'id': 2,\n",
       "  'first_name': 'arnaldo',\n",
       "  'last_name': 'silva',\n",
       "  'email': 'arnaldosilva@outlook.com',\n",
       "  'phone': '(43)9639-4222',\n",
       "  'links': ['facebook.com/arnaldosilva', 'linkedin.com/arnaldosilva'],\n",
       "  'jobs': [{'job_title': 'forest engineer',\n",
       "    'job_company': 'book store',\n",
       "    'year': 2002},\n",
       "   {'job_title': 'personal trainer', 'job_company': 'evil corp', 'year': 2014},\n",
       "   {'job_title': 'professor',\n",
       "    'job_company': 'the black pearl university',\n",
       "    'year': 2008}]}]"
      ]
     },
     "execution_count": 17,
     "metadata": {},
     "output_type": "execute_result"
    }
   ],
   "source": [
    "people_data"
   ]
  },
  {
   "cell_type": "code",
   "execution_count": 19,
   "id": "a2a29ade-8b8a-41b5-b993-e3e2dee869f5",
   "metadata": {},
   "outputs": [
    {
     "name": "stdout",
     "output_type": "stream",
     "text": [
      "pedro abreu\n",
      "['instagram.com/pedroabreu', 'github.com/pedroabreu', '500px.com/pedroabreu']\n",
      "it manager 2008\n",
      "forest engineer 2022\n",
      "professor 2018\n",
      "forest engineer 2012\n",
      "------------------\n",
      "julia silva\n",
      "['linkedin.com/juliasilva', 'linkedin.com/juliasilva', 'instagram.com/juliasilva']\n",
      "data engineer 2018\n",
      "------------------\n",
      "arnaldo silva\n",
      "['facebook.com/arnaldosilva', 'linkedin.com/arnaldosilva']\n",
      "forest engineer 2002\n",
      "personal trainer 2014\n",
      "professor 2008\n",
      "------------------\n"
     ]
    }
   ],
   "source": [
    "for person in people_data:\n",
    "    print(f\"{person['first_name']} {person['last_name']}\")\n",
    "    print(person['links'])\n",
    "    for job in person['jobs']:\n",
    "        print(f\"{job['job_title']} {job['year']}\")\n",
    "    print('------------------')"
   ]
  },
  {
   "cell_type": "code",
   "execution_count": null,
   "id": "7545c329-3b13-44a4-8168-4eaea4f9e70e",
   "metadata": {},
   "outputs": [],
   "source": []
  }
 ],
 "metadata": {
  "kernelspec": {
   "display_name": "Python 3 (ipykernel)",
   "language": "python",
   "name": "python3"
  },
  "language_info": {
   "codemirror_mode": {
    "name": "ipython",
    "version": 3
   },
   "file_extension": ".py",
   "mimetype": "text/x-python",
   "name": "python",
   "nbconvert_exporter": "python",
   "pygments_lexer": "ipython3",
   "version": "3.11.5"
  }
 },
 "nbformat": 4,
 "nbformat_minor": 5
}
